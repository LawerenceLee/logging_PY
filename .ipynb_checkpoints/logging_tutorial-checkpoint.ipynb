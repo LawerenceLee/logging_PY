{
 "cells": [
  {
   "cell_type": "markdown",
   "metadata": {},
   "source": [
    "# Python Tutorial: Logging Basics - Logging to Files, Setting Levels, and Formatting\n",
    "The [code](https://www.youtube.com/redirect?q=https%3A%2F%2Fgithub.com%2FCoreyMSchafer%2Fcode_snippets%2Ftree%2Fmaster%2FLogging-Basics&v=-ARI4Cz-awo&event=video_description&redir_token=O0BI4_x_Zd-CTZIubXykzgbywHt8MTUwODM2ODQxMEAxNTA4MjgyMDEw) from the video.\n",
    "\n",
    "## How to start logging:\n",
    "* Import `logging` (it's in the Standard Python Library)\n",
    "* Add log statments to your code:\n",
    "```python\n",
    "logging.debug('some print statement {}'.format(some_result_from_a_Function))\n",
    "# or if you only want output to be logged above a certain logging level (see below for more info on the levels)\n",
    "logging.warning('some print statement {}'.format(some_result_from_a_Function))\n",
    "```\n",
    "\n",
    "#### 5 Standard Logging Levels\n",
    "* __`DEBUG`__: Detailed information, typically of interest only when diagnosing problems.\n",
    "* __`INFO`__: Confirmation that things are working as expected.\n",
    "* __`WARNING`__: An indication that something unexpected happened, or indicative of some problem in the near future (e.g. ‘disk space low’). The software is still working as expected.\n",
    "* __`ERROR`__: Due to a more serious problem, the software has not been able to perform some function.\n",
    "* __`CRITICAL`__: A serious error, indicating that the program itself may be unable to continue running.\n",
    "* Default level for logging is the Warning Level, which means everything from Warning to Critical will be logged, but Debug and Info will not be.\n",
    "\n",
    "#### Changing the logging Level/Configuration:\n",
    "* ```python\n",
    "  logging.basicConfig(level=logging.DEBUG)```\n",
    "* ```python\n",
    "  logging.basicConfig(level=logging.INFO)```\n",
    "\n",
    "#### Logging to the console:\n",
    "* Done by default, if you do specify a logfile in logging.basicConfig\n",
    "* ```python\n",
    "  logging.debug('some print statement {}'.format(some_result))\n",
    "\n",
    "  # Output:\n",
    "  >>> DEBUG:<logger_userName>:<:<your_print_statement>\n",
    "  # You could also manually format it like so:\n",
    "  >>> DEBUG:<logger_userName>:<function_name: your_print_statement>```\n",
    "\n",
    "#### Using a Log File:\n",
    "* ```python\n",
    "  logging.basicConfig(filename='test.log', level=logging.INFO)\n",
    "  # include these as well\n",
    "  logging.debug('some print statement {}'.format(some_result))```\n",
    "* Log files are saved in the current working directory by default.\n",
    "\n",
    "#### Changing the format of your log statements:\n",
    "* Possible Format options can be found in the table below.\n",
    "* ```python\n",
    "  logging.basicConfig(filename='test.log', level=logging.INFO,\n",
    "  format=\"<attribute_1>:<attribute_2>:.....')\n",
    "\n",
    "  # Example (doesn't neccessarly need the colons):\n",
    "  logging.basicConfig(filename='test.log', level=logging.INFO,\n",
    "  format='%(asctime)s:%(levelname)s:%(message)s')\n",
    "  ```"
   ]
  },
  {
   "cell_type": "markdown",
   "metadata": {},
   "source": [
    "![16_6_7_LogRecord_attributes.png](16_6_7_LogRecord_attributes.png)"
   ]
  },
  {
   "cell_type": "markdown",
   "metadata": {},
   "source": [
    "## Advanced Logging\n",
    "\n"
   ]
  }
 ],
 "metadata": {
  "kernelspec": {
   "display_name": "Python 3",
   "language": "python",
   "name": "python3"
  },
  "language_info": {
   "codemirror_mode": {
    "name": "ipython",
    "version": 3
   },
   "file_extension": ".py",
   "mimetype": "text/x-python",
   "name": "python",
   "nbconvert_exporter": "python",
   "pygments_lexer": "ipython3",
   "version": "3.6.3"
  }
 },
 "nbformat": 4,
 "nbformat_minor": 2
}
